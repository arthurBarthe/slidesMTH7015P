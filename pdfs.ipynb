{
 "cells": [
  {
   "cell_type": "markdown",
   "id": "13eb882a-e1eb-4cac-b2dd-fbce0ce94604",
   "metadata": {
    "editable": true,
    "slideshow": {
     "slide_type": "slide"
    },
    "tags": []
   },
   "source": [
    "# Standard probability density functions"
   ]
  },
  {
   "cell_type": "code",
   "execution_count": 21,
   "id": "07d1f010-9ac0-4ff6-8c48-95b25a290d29",
   "metadata": {
    "editable": true,
    "slideshow": {
     "slide_type": "skip"
    },
    "tags": []
   },
   "outputs": [],
   "source": [
    "import numpy as np\n",
    "import matplotlib.pyplot as plt\n",
    "from scipy.stats import expon, norm\n",
    "import ipywidgets as widgets"
   ]
  },
  {
   "cell_type": "code",
   "execution_count": 35,
   "id": "44f9d9bd-0d69-431d-a501-21f72bc51899",
   "metadata": {
    "editable": true,
    "slideshow": {
     "slide_type": "skip"
    },
    "tags": []
   },
   "outputs": [],
   "source": [
    "class PDFwidget:\n",
    "    def __init__(self, distribution, value_range):\n",
    "        self.distribution = distribution\n",
    "        self.value_range = value_range\n",
    "        self.out = widgets.Output(layout=dict(height='550px'))\n",
    "        self.fig = plt.figure()\n",
    "        self.ax = self.fig.add_subplot()\n",
    "        plt.close()\n",
    "        self._build()\n",
    "        self.param_sliders = []\n",
    "\n",
    "    def _build(self):\n",
    "        self.button = widgets.Button(description='Draw random sample', layout=dict(width='25%'))\n",
    "        self.size = widgets.Dropdown(\n",
    "            options=[('1', 1), \n",
    "                     ('10', 10),\n",
    "                     ('100', 100),\n",
    "                     ('1000', 1000),\n",
    "                     ('10000', 10000)],\n",
    "            value=1,\n",
    "            description='Sample size:'\n",
    "        )\n",
    "        self.plot_pdf = widgets.Checkbox(\n",
    "            value=True,\n",
    "            description='Show pmf',\n",
    "            disabled=False,\n",
    "            indent=False\n",
    "        )\n",
    "        self.plot_sample = widgets.Checkbox(\n",
    "            value=False,\n",
    "            description='Show random sample',\n",
    "            disabled=False,\n",
    "            indent=False\n",
    "        )\n",
    "        self.button.on_click(self.on_button_clicked)\n",
    "        self.plot_pdf.observe(self.on_button_clicked, names='value')\n",
    "        self.plot_sample.observe(self.on_button_clicked, names='value')\n",
    "\n",
    "    def add_param_slider(self, name, slider, func):\n",
    "        self.param_sliders.append((name, slider, func))\n",
    "        slider.observe(self.on_button_clicked, names='value')\n",
    "\n",
    "    def on_button_clicked(self, b):\n",
    "        with self.out:\n",
    "            self.out.clear_output(wait=True)\n",
    "            self.ax.clear()\n",
    "            dist = self.distribution(**{name: func(slider.value) for (name, slider, func) in self.param_sliders})\n",
    "            values = np.linspace(self.value_range[0], self.value_range[1], 1000)\n",
    "            if self.size.value > 1 and self.plot_sample.value:\n",
    "                sample = dist.rvs(size=self.size.value).reshape(-1, 1)\n",
    "                self.ax.hist(sample, density=True,\n",
    "                             bins=np.arange(self.value_range[0],\n",
    "                                              self.value_range[1], 0.5)\n",
    "                            )\n",
    "            elif self.plot_sample.value:\n",
    "                self.ax.scatter(dist.rvs() + 0.05, 0, marker='o')\n",
    "            if self.plot_pdf.value:\n",
    "                xs = values\n",
    "                ys = dist.pdf(xs)\n",
    "                self.ax.plot(xs, ys, color='orange', linewidth=3)\n",
    "            self.ax.set_xlim(self.value_range[0], self.value_range[1])\n",
    "            self.ax.set_ylim(0, 1.5)\n",
    "            self.ax.set_xticks(np.arange(self.value_range[0], self.value_range[1]))\n",
    "            with self.out:\n",
    "                display(self.fig)\n",
    "            plt.close()\n",
    "\n",
    "    def __call__(self):\n",
    "        self.button.click()\n",
    "        display(widgets.VBox([self.button, self.size, self.plot_pdf, self.plot_sample]\n",
    "                             + [slider for (_, slider, __) in self.param_sliders]\n",
    "                             + [self.out,]))"
   ]
  },
  {
   "cell_type": "markdown",
   "id": "b202c35d-52c1-4b2a-9bc6-bf0b65a0e13a",
   "metadata": {
    "editable": true,
    "slideshow": {
     "slide_type": "slide"
    },
    "tags": []
   },
   "source": [
    "## Exponential distribution"
   ]
  },
  {
   "cell_type": "markdown",
   "id": "bea4b4ee-a6d8-4313-8241-bd56c8acc71f",
   "metadata": {
    "editable": true,
    "slideshow": {
     "slide_type": "fragment"
    },
    "tags": []
   },
   "source": [
    "The exponential distribution is commonly met in applications\n",
    "to model life span. For instance, it can be used to model\n",
    "the life span of a light bulb. It takes a single parameter\n",
    "$\\lambda>0$, is denoted $\\text{Exp}(\\lambda)$, and\n",
    "its probability density function\n",
    "takes the form of,\n",
    "\\begin{equation}\n",
    "    f_X(x; \\lambda) = \\lambda\\exp(-\\lambda x), \\quad \\lambda\\in\\mathbb{R}^+.\n",
    "\\end{equation}"
   ]
  },
  {
   "cell_type": "markdown",
   "id": "cd4d8a8e-4b03-41c3-9bdc-0a2b3398a35c",
   "metadata": {
    "editable": true,
    "slideshow": {
     "slide_type": "fragment"
    },
    "tags": []
   },
   "source": [
    "The exponential distribution is also often used in what is\n",
    "called queining theory: the modelling of people who stand in a queue.\n",
    "One can often model the time between two arrivals in a queue as\n",
    "an exponential distribution."
   ]
  },
  {
   "cell_type": "code",
   "execution_count": 36,
   "id": "e89925f0-06e8-45f9-9aab-64abcedc8f7e",
   "metadata": {
    "editable": true,
    "slideshow": {
     "slide_type": "subslide"
    },
    "tags": []
   },
   "outputs": [
    {
     "data": {
      "application/vnd.jupyter.widget-view+json": {
       "model_id": "9c28bfc37c71417d9ce2c06c21548a81",
       "version_major": 2,
       "version_minor": 0
      },
      "text/plain": [
       "VBox(children=(Button(description='Draw random sample', layout=Layout(width='25%'), style=ButtonStyle()), Drop…"
      ]
     },
     "metadata": {},
     "output_type": "display_data"
    }
   ],
   "source": [
    "lamb_sel = widgets.FloatSlider(\n",
    "    value=0.25,\n",
    "    min=0,\n",
    "    max=2,\n",
    "    step=.05,\n",
    "    description=r'$\\lambda$',\n",
    "    disabled=False,\n",
    "    continuous_update=False,\n",
    "    orientation='horizontal',\n",
    "    readout=True,\n",
    ")\n",
    "\n",
    "widget = PDFwidget(expon, (0, 10))\n",
    "widget.add_param_slider('scale', lamb_sel, lambda x: 1 / x)\n",
    "widget()"
   ]
  },
  {
   "cell_type": "markdown",
   "id": "2efbc583-34df-4723-9aef-d435f4189460",
   "metadata": {
    "editable": true,
    "slideshow": {
     "slide_type": "slide"
    },
    "tags": []
   },
   "source": [
    "## Normal distribution"
   ]
  },
  {
   "cell_type": "markdown",
   "id": "38427927-4855-43e7-8e28-13d15f6be894",
   "metadata": {
    "editable": true,
    "slideshow": {
     "slide_type": "fragment"
    },
    "tags": []
   },
   "source": [
    "The normal distribution is of fundamental importance. Indeed,\n",
    "it occurs as a limiting distribution (we will define what is \n",
    "meant by a limit of a distribution in Week 5) of sample averages\n",
    "under rather mild assumptions. This is known as the Central\n",
    "Limit Theorem.\n",
    "\n",
    "The normal distribution takes two parameters, $\\mu\\in\\mathbb{R}$,\n",
    "called the mean of the distribution, and $\\sigma\\in\\mathbb{R}^+$,\n",
    "the standard deviation. It is denoted $\\mathcal{N}(\\mu, \\sigma^2)$\n",
    "and its probability density function takes the form of,\n",
    "\\begin{equation}\n",
    "    f_X(x; \\mu, \\sigma) = \n",
    "    \\frac{1}{\\sqrt{2\\pi}\\sigma}\n",
    "    \\exp\\left\\{-\\frac{(x-\\mu)^2}{2\\sigma^2}\\right\\}.\n",
    "\\end{equation}"
   ]
  },
  {
   "cell_type": "code",
   "execution_count": 37,
   "id": "90614749-d938-4aec-a1c5-4d48603915b2",
   "metadata": {
    "editable": true,
    "slideshow": {
     "slide_type": "subslide"
    },
    "tags": []
   },
   "outputs": [
    {
     "data": {
      "application/vnd.jupyter.widget-view+json": {
       "model_id": "47a56f8b944a451ead7cffa3439bb96d",
       "version_major": 2,
       "version_minor": 0
      },
      "text/plain": [
       "VBox(children=(Button(description='Draw random sample', layout=Layout(width='25%'), style=ButtonStyle()), Drop…"
      ]
     },
     "metadata": {},
     "output_type": "display_data"
    }
   ],
   "source": [
    "mu_sel = widgets.FloatSlider(\n",
    "    value=0.25,\n",
    "    min=-5,\n",
    "    max=5,\n",
    "    step=.05,\n",
    "    description=r'$\\mu$',\n",
    "    disabled=False,\n",
    "    continuous_update=False,\n",
    "    orientation='horizontal',\n",
    "    readout=True,\n",
    ")\n",
    "\n",
    "sigma_sel = widgets.FloatSlider(\n",
    "    value=0.3,\n",
    "    min=0.25,\n",
    "    max=2,\n",
    "    step=.05,\n",
    "    description=r'$\\sigma$',\n",
    "    disabled=False,\n",
    "    continuous_update=False,\n",
    "    orientation='horizontal',\n",
    "    readout=True,\n",
    ")\n",
    "\n",
    "widget = PDFwidget(norm, (-10, 10))\n",
    "widget.add_param_slider('loc', mu_sel, lambda x: x)\n",
    "widget.add_param_slider('scale', sigma_sel, lambda x: x)\n",
    "widget()"
   ]
  }
 ],
 "metadata": {
  "kernelspec": {
   "display_name": "Python 3 (ipykernel)",
   "language": "python",
   "name": "python3"
  },
  "language_info": {
   "codemirror_mode": {
    "name": "ipython",
    "version": 3
   },
   "file_extension": ".py",
   "mimetype": "text/x-python",
   "name": "python",
   "nbconvert_exporter": "python",
   "pygments_lexer": "ipython3",
   "version": "3.10.12"
  }
 },
 "nbformat": 4,
 "nbformat_minor": 5
}
