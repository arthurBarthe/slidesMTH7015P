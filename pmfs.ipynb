{
 "cells": [
  {
   "cell_type": "markdown",
   "id": "30b25b16-c406-470a-becf-60548ba65f41",
   "metadata": {
    "editable": true,
    "slideshow": {
     "slide_type": ""
    },
    "tags": []
   },
   "source": [
    "# Standard probability mass functions"
   ]
  },
  {
   "cell_type": "code",
   "execution_count": 3,
   "id": "d761adb0-42d7-4765-8071-b5892a769853",
   "metadata": {
    "editable": true,
    "slideshow": {
     "slide_type": "skip"
    },
    "tags": []
   },
   "outputs": [],
   "source": [
    "import numpy as np\n",
    "import matplotlib.pyplot as plt\n",
    "from scipy.stats import poisson, bernoulli, binom\n",
    "import ipywidgets as widgets"
   ]
  },
  {
   "cell_type": "markdown",
   "id": "600cf1b8-52cb-48c3-ae28-7d1cd7248629",
   "metadata": {
    "editable": true,
    "slideshow": {
     "slide_type": "slide"
    },
    "tags": []
   },
   "source": [
    "## Bernoulli distribution "
   ]
  },
  {
   "cell_type": "markdown",
   "id": "d3259849-dd62-4cbe-bdc7-945c4ca8ee16",
   "metadata": {
    "editable": true,
    "slideshow": {
     "slide_type": "fragment"
    },
    "tags": []
   },
   "source": [
    "The Bernoulli distribution corresponds to the case where the random variable\n",
    "$X$ can only take two values, for instance 0 and 1, and\n",
    "we wish to describe the probability of both outcomes.\n",
    "This family of distributions depends on a single parameter\n",
    "$p\\in [0, 1]$, and is defined according to,\n",
    "\\begin{equation}\n",
    "    \\begin{cases}\n",
    "        p_X(1) &= p\\\\\n",
    "        p_X(0) &= 1 - p.\n",
    "    \\end{cases}\n",
    "\\end{equation}"
   ]
  },
  {
   "cell_type": "markdown",
   "id": "dde012ba-4480-4cea-a4d3-1cf68b38d0e6",
   "metadata": {
    "editable": true,
    "slideshow": {
     "slide_type": "fragment"
    },
    "tags": []
   },
   "source": [
    "It is common to say that $p$ is the probability of\n",
    "success (probability of $X$ taking the value 1), and\n",
    "that $1-p$ is the probability of failure.\n",
    "For instance, a coin throw follows a Bernoulli distribution,\n",
    "where $p=0.5$ if the coin is well-balanced."
   ]
  },
  {
   "cell_type": "markdown",
   "id": "bc894b8e-4443-4268-913e-15dede498c9d",
   "metadata": {
    "editable": true,
    "slideshow": {
     "slide_type": "subslide"
    },
    "tags": []
   },
   "source": [
    "The widget on the next subslide shows the probability mass function of the Bernoulli distribution, and allows you to change its parameter $p$. You can also show the distribution of a random sample, and alter the size of the sample.\n",
    "\n",
    "In the case of a sample size of 1, the random value is shown as a circle where it occurs rather than as a distribution."
   ]
  },
  {
   "cell_type": "code",
   "execution_count": 1,
   "id": "5a8b4253-c8f7-425a-9e2b-e76b573a393d",
   "metadata": {
    "editable": true,
    "slideshow": {
     "slide_type": "skip"
    },
    "tags": []
   },
   "outputs": [],
   "source": [
    "class PMFwidget:\n",
    "    def __init__(self, distribution, value_range):\n",
    "        self.distribution = distribution\n",
    "        self.value_range = value_range\n",
    "        self.out = widgets.Output(layout=dict(height='550px'))\n",
    "        self.fig = plt.figure()\n",
    "        self.ax = self.fig.add_subplot()\n",
    "        plt.close()\n",
    "        self._build()\n",
    "        self.param_sliders = []\n",
    "\n",
    "    def _build(self):\n",
    "        self.button = widgets.Button(description='Draw random sample', layout=dict(width='25%'))\n",
    "        self.size = widgets.Dropdown(\n",
    "            options=[('1', 1), \n",
    "                     ('10', 10),\n",
    "                     ('100', 100),\n",
    "                     ('1000', 1000),\n",
    "                     ('10000', 10000)],\n",
    "            value=1,\n",
    "            description='Sample size:'\n",
    "        )\n",
    "        self.plot_pdf = widgets.Checkbox(\n",
    "            value=True,\n",
    "            description='Show pmf',\n",
    "            disabled=False,\n",
    "            indent=False\n",
    "        )\n",
    "        self.plot_sample = widgets.Checkbox(\n",
    "            value=False,\n",
    "            description='Show random sample',\n",
    "            disabled=False,\n",
    "            indent=False\n",
    "        )\n",
    "        self.button.on_click(self.on_button_clicked)\n",
    "        self.plot_pdf.observe(self.on_button_clicked, names='value')\n",
    "        self.plot_sample.observe(self.on_button_clicked, names='value')\n",
    "\n",
    "    def add_param_slider(self, slider):\n",
    "        self.param_sliders.append(slider)\n",
    "        slider.observe(self.on_button_clicked, names='value')\n",
    "\n",
    "    def on_button_clicked(self, b):\n",
    "        with self.out:\n",
    "            self.out.clear_output(wait=True)\n",
    "            self.ax.clear()\n",
    "            dist = self.distribution(*[slider.value for slider in self.param_sliders])\n",
    "            values = np.arange(self.value_range[0], self.value_range[1]).reshape(1, -1)\n",
    "            if self.size.value > 1:\n",
    "                sample = dist.rvs(size=self.size.value).reshape(-1, 1)\n",
    "                proportions = np.mean(sample == values, axis=0)\n",
    "                if self.plot_sample.value:\n",
    "                    self.ax.vlines(values + 0.05, 0, proportions, linewidth=3)\n",
    "            else:\n",
    "                self.ax.scatter(dist.rvs() + 0.05, 0, marker='o')\n",
    "            if self.plot_pdf.value:\n",
    "                xs = values\n",
    "                ys = dist.pmf(xs)\n",
    "                self.ax.vlines(xs + 0.2, 0, ys, color='orange', linewidth=3)\n",
    "            self.ax.set_xlim(0, self.value_range[1])\n",
    "            self.ax.set_ylim(0, 1.1)\n",
    "            self.ax.set_xticks(np.arange(self.value_range[1]))\n",
    "            with self.out:\n",
    "                display(self.fig)\n",
    "            plt.close()\n",
    "\n",
    "    def __call__(self):\n",
    "        self.button.click()\n",
    "        display(widgets.VBox([self.button, self.size, self.plot_pdf, self.plot_sample]\n",
    "                             + self.param_sliders\n",
    "                             + [self.out,]))"
   ]
  },
  {
   "cell_type": "code",
   "execution_count": 4,
   "id": "1442ac1b-3dfc-4464-8549-f06df3d4c435",
   "metadata": {
    "editable": true,
    "slideshow": {
     "slide_type": "subslide"
    },
    "tags": []
   },
   "outputs": [
    {
     "data": {
      "application/vnd.jupyter.widget-view+json": {
       "model_id": "129b303c5d074979ab4725f711411012",
       "version_major": 2,
       "version_minor": 0
      },
      "text/plain": [
       "VBox(children=(Button(description='Draw random sample', layout=Layout(width='25%'), style=ButtonStyle()), Drop…"
      ]
     },
     "metadata": {},
     "output_type": "display_data"
    }
   ],
   "source": [
    "p_sel = widgets.FloatSlider(\n",
    "    value=0.25,\n",
    "    min=0,\n",
    "    max=1,\n",
    "    step=.05,\n",
    "    description=r'p',\n",
    "    disabled=False,\n",
    "    continuous_update=False,\n",
    "    orientation='horizontal',\n",
    "    readout=True,\n",
    ")\n",
    "\n",
    "widget = PMFwidget(bernoulli, (0, 2))\n",
    "widget.add_param_slider(p_sel)\n",
    "widget()"
   ]
  },
  {
   "cell_type": "markdown",
   "id": "cdc7d19a-a405-4ecb-994b-c46058f9a1bf",
   "metadata": {
    "editable": true,
    "slideshow": {
     "slide_type": "slide"
    },
    "tags": []
   },
   "source": [
    "Can you think of real-world scenarios that could be modelled as Bernoulli random variables?"
   ]
  },
  {
   "cell_type": "markdown",
   "id": "073da3e7-a0bd-4086-bb74-a73c9798df4c",
   "metadata": {
    "editable": true,
    "slideshow": {
     "slide_type": "fragment"
    },
    "tags": []
   },
   "source": [
    "Here are just a few examples:\n",
    "1. Coin throw: the most standard exampe\n",
    "2. Rainy day vs sunny day\n",
    "3. Right answer vs Wrong answer to a quiw question"
   ]
  },
  {
   "cell_type": "markdown",
   "id": "62708575-edaf-4005-97a8-be6ed790a9e0",
   "metadata": {
    "editable": true,
    "slideshow": {
     "slide_type": "slide"
    },
    "tags": []
   },
   "source": [
    "## Binomial distribution"
   ]
  },
  {
   "cell_type": "markdown",
   "id": "44995108-9aea-40e1-be28-f26321a42479",
   "metadata": {
    "editable": true,
    "slideshow": {
     "slide_type": "fragment"
    },
    "tags": []
   },
   "source": [
    "Another common family of discrete probability distribution functions\n",
    "is the Binomial distribution. The Binomial distribution occurs when counting\n",
    "the positive outcomes in a fixed number of independent \n",
    "Bernoulli experiments.\n",
    "\n",
    "For instance, we saw that the outcome of a coin throw follows\n",
    "a Bernoulli distribution. If instead of a single coin throw \n",
    "we repeatedly throw the same coin \\(n\\geq 1\\) times,\n",
    "then the total number of Heads observed follows a Binomial\n",
    "distribution $\\mathcal{B}(n, p)$ with parameters $(n, p)$, where $p$ is the\n",
    "probability of obtaining Head. The probability mass function of the\n",
    "Binomial Distribution with parameters $n, p$ is given by,\n",
    "\\begin{equation}\n",
    "    p_X(k) = {n \\choose k} p^k (1 - p)^{n - k}, \\quad k\\in\\mathbb{N}.\n",
    "\\end{equation}\n",
    "Note that it has finite support $\\{0, \\ldots, n\\}$. Indeed, if you \n",
    "throw a coin 10 times the probability of observing 11 Heads is zero."
   ]
  },
  {
   "cell_type": "code",
   "execution_count": 7,
   "id": "33b2ba7f-0788-483e-b5e3-5a6d9b24f588",
   "metadata": {
    "editable": true,
    "slideshow": {
     "slide_type": "subslide"
    },
    "tags": []
   },
   "outputs": [
    {
     "data": {
      "application/vnd.jupyter.widget-view+json": {
       "model_id": "d4be451a390949c09522fc882027b70b",
       "version_major": 2,
       "version_minor": 0
      },
      "text/plain": [
       "VBox(children=(Button(description='Draw random sample', layout=Layout(width='25%'), style=ButtonStyle()), Drop…"
      ]
     },
     "metadata": {},
     "output_type": "display_data"
    }
   ],
   "source": [
    "p_sel = widgets.FloatSlider(\n",
    "    value=0.25,\n",
    "    min=0,\n",
    "    max=1,\n",
    "    step=.05,\n",
    "    description=r'p',\n",
    "    disabled=False,\n",
    "    continuous_update=False,\n",
    "    orientation='horizontal',\n",
    "    readout=True,\n",
    ")\n",
    "\n",
    "n_sel = widgets.IntSlider(\n",
    "    value=5,\n",
    "    min=0,\n",
    "    max=10,\n",
    "    step=1,\n",
    "    description=r'n',\n",
    "    disabled=False,\n",
    "    continuous_update=False,\n",
    "    orientation='horizontal',\n",
    "    readout=True,\n",
    ")\n",
    "\n",
    "widget = PMFwidget(binom, (0, n_sel.max + 1))\n",
    "widget.add_param_slider(n_sel)\n",
    "widget.add_param_slider(p_sel)\n",
    "widget()"
   ]
  },
  {
   "cell_type": "markdown",
   "id": "3e00c276-4b7a-42a7-83f6-1c2b84679058",
   "metadata": {
    "editable": true,
    "slideshow": {
     "slide_type": "slide"
    },
    "tags": []
   },
   "source": [
    "## Poisson distribution"
   ]
  },
  {
   "cell_type": "markdown",
   "id": "113ed9ec-6bb6-4a99-942d-0ffb5385519d",
   "metadata": {
    "editable": true,
    "slideshow": {
     "slide_type": "fragment"
    },
    "tags": []
   },
   "source": [
    "The Poisson distribution is often used for count data. By count data,\n",
    "we mean that we count the number of occurrences of a random event\n",
    "within a fixed time window --- for instance the number of connections\n",
    "made to a website per day --- or the number of locations where an event\n",
    "occurs within a fixed region --- for instance the number of flaws in \n",
    "a piece of cloth on a production site. \n",
    "The Poisson distribution has a single parameter, often denoted $\\mu$,\n",
    "and has its probability mass function given by,\n",
    "\\begin{equation}\n",
    "    p_X(k) = \\frac{\\mu^k}{k!} \\exp(-\\mu), \\quad k\\in\\mathbb{N}.\n",
    "\\end{equation}"
   ]
  },
  {
   "cell_type": "markdown",
   "id": "a9e97aa9-69f7-492d-a5b5-1cf8d3082ce3",
   "metadata": {
    "editable": true,
    "slideshow": {
     "slide_type": "subslide"
    },
    "tags": []
   },
   "source": [
    "A Binomial distribution can be shown to converge to a Poisson distribution as $\\frac{p}{n}$ goes to zero. More specifically, it converges to a Poisson distribution with parameter $\\mu=np$."
   ]
  },
  {
   "cell_type": "code",
   "execution_count": 8,
   "id": "cddc2912-1ddb-472a-a17b-f6bb8c36c6ba",
   "metadata": {
    "editable": true,
    "slideshow": {
     "slide_type": "subslide"
    },
    "tags": []
   },
   "outputs": [
    {
     "data": {
      "application/vnd.jupyter.widget-view+json": {
       "model_id": "302910025d354be380ca07fcb5a1b784",
       "version_major": 2,
       "version_minor": 0
      },
      "text/plain": [
       "VBox(children=(Button(description='Draw random sample', layout=Layout(width='25%'), style=ButtonStyle()), Drop…"
      ]
     },
     "metadata": {},
     "output_type": "display_data"
    }
   ],
   "source": [
    "mu_sel = widgets.FloatSlider(\n",
    "    value=5,\n",
    "    min=1,\n",
    "    max=10.0,\n",
    "    step=.5,\n",
    "    description=r'$\\mu$',\n",
    "    disabled=False,\n",
    "    continuous_update=False,\n",
    "    orientation='horizontal',\n",
    "    readout=True,\n",
    ")\n",
    "\n",
    "widget = PMFwidget(poisson, (0, mu_sel.max * 2))\n",
    "widget.add_param_slider(mu_sel)\n",
    "widget()"
   ]
  },
  {
   "cell_type": "markdown",
   "id": "1672ff9f-1ae9-40f1-92ad-8d7ff2818716",
   "metadata": {
    "editable": true,
    "slideshow": {
     "slide_type": "slide"
    },
    "tags": []
   },
   "source": [
    "Can you think of real-world scenarios that could be modelled as Poisson random variables?"
   ]
  },
  {
   "cell_type": "markdown",
   "id": "b44db2df-f10e-43cd-8da0-261cb295421a",
   "metadata": {
    "editable": true,
    "slideshow": {
     "slide_type": "fragment"
    },
    "tags": []
   },
   "source": [
    "Here are just a few examples:\n",
    "1. Number of car accidents in London in a year\n",
    "2. Number of credit card fraud payments to a company in a month"
   ]
  },
  {
   "cell_type": "code",
   "execution_count": null,
   "id": "f86413f9-376a-42a8-b140-71778c551172",
   "metadata": {
    "editable": true,
    "slideshow": {
     "slide_type": ""
    },
    "tags": []
   },
   "outputs": [],
   "source": []
  }
 ],
 "metadata": {
  "kernelspec": {
   "display_name": "Python 3 (ipykernel)",
   "language": "python",
   "name": "python3"
  },
  "language_info": {
   "codemirror_mode": {
    "name": "ipython",
    "version": 3
   },
   "file_extension": ".py",
   "mimetype": "text/x-python",
   "name": "python",
   "nbconvert_exporter": "python",
   "pygments_lexer": "ipython3",
   "version": "3.10.12"
  }
 },
 "nbformat": 4,
 "nbformat_minor": 5
}
